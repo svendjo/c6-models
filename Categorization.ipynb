{
 "cells": [
  {
   "cell_type": "markdown",
   "id": "14532f03-d50a-44fb-9414-1edb82852458",
   "metadata": {},
   "source": [
    "# Categorizing Cookies from Non-Cookies\n",
    "Combine the existing chocolate chip cookie dataset with xxx."
   ]
  },
  {
   "cell_type": "code",
   "execution_count": null,
   "id": "5a2477c4-d986-4372-b8dc-36b99a8cdb20",
   "metadata": {},
   "outputs": [],
   "source": []
  }
 ],
 "metadata": {
  "kernelspec": {
   "display_name": "Python 3 (ipykernel)",
   "language": "python",
   "name": "python3"
  },
  "language_info": {
   "codemirror_mode": {
    "name": "ipython",
    "version": 3
   },
   "file_extension": ".py",
   "mimetype": "text/x-python",
   "name": "python",
   "nbconvert_exporter": "python",
   "pygments_lexer": "ipython3",
   "version": "3.12.7"
  }
 },
 "nbformat": 4,
 "nbformat_minor": 5
}
